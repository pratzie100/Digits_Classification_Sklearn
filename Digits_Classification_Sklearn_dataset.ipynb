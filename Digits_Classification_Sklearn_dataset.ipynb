{
 "cells": [
  {
   "cell_type": "markdown",
   "id": "2eeb1e5d-e3af-4efd-b54a-710308bc5565",
   "metadata": {},
   "source": [
    "***Testing different models***"
   ]
  },
  {
   "cell_type": "code",
   "execution_count": 1,
   "id": "388e712e-0922-4958-a790-fdd35d035592",
   "metadata": {},
   "outputs": [],
   "source": [
    "from sklearn import datasets\n",
    "digits = datasets.load_digits()"
   ]
  },
  {
   "cell_type": "code",
   "execution_count": 2,
   "id": "582dc314-db3d-4080-b13f-95c0b2f0a37b",
   "metadata": {},
   "outputs": [],
   "source": [
    "from sklearn.model_selection import train_test_split\n",
    "X_train, X_test, y_train, y_test = train_test_split(digits.data, digits.target, test_size=0.2)"
   ]
  },
  {
   "cell_type": "code",
   "execution_count": 3,
   "id": "8ea5e3fe-5a26-4d81-b107-f2500cae6f76",
   "metadata": {},
   "outputs": [],
   "source": [
    "from sklearn.linear_model import LogisticRegression\n",
    "from sklearn.svm import SVC\n",
    "from sklearn.tree import DecisionTreeClassifier\n",
    "from sklearn.ensemble import RandomForestClassifier\n",
    "from sklearn.naive_bayes import GaussianNB, MultinomialNB\n",
    "from sklearn.neighbors import KNeighborsClassifier\n",
    "from sklearn.metrics import accuracy_score, precision_score, f1_score, recall_score\n",
    "import pandas as pd"
   ]
  },
  {
   "cell_type": "code",
   "execution_count": 5,
   "id": "085015c9-82a6-4073-86f0-1840d5b4702e",
   "metadata": {},
   "outputs": [],
   "source": [
    "# Define the models\n",
    "models = {\n",
    "    'Logistic Regression': LogisticRegression(max_iter=10000000),\n",
    "    'SVM': SVC(),\n",
    "    'Decision Tree': DecisionTreeClassifier(),\n",
    "    'Random Forest': RandomForestClassifier(),\n",
    "    'Gaussian Naive Bayes': GaussianNB(),\n",
    "    'Multinomial Naive Bayes': MultinomialNB(),\n",
    "    'KNN': KNeighborsClassifier()\n",
    "}"
   ]
  },
  {
   "cell_type": "code",
   "execution_count": 6,
   "id": "06af3995-52c2-4f8e-a7da-813537eefa84",
   "metadata": {},
   "outputs": [],
   "source": [
    "# Initialize lists to store evaluation metrics\n",
    "accuracy_list = []\n",
    "precision_list = []\n",
    "f1_list = []\n",
    "recall_list = []"
   ]
  },
  {
   "cell_type": "code",
   "execution_count": 7,
   "id": "3facaff6-b247-48ab-800d-828919d07490",
   "metadata": {},
   "outputs": [],
   "source": [
    "# Loop through each model\n",
    "for name, model in models.items():\n",
    "    # Train the model\n",
    "    model.fit(X_train, y_train)\n",
    "    \n",
    "    # Make predictions\n",
    "    y_pred = model.predict(X_test)\n",
    "    \n",
    "    # Calculate evaluation metrics\n",
    "    accuracy = accuracy_score(y_test, y_pred)\n",
    "    precision = precision_score(y_test, y_pred, average='weighted')\n",
    "    f1 = f1_score(y_test, y_pred, average='weighted')\n",
    "    recall=recall_score(y_test, y_pred, average='weighted')\n",
    "    \n",
    "    # Append the metrics to the lists\n",
    "    accuracy_list.append(accuracy)\n",
    "    precision_list.append(precision)\n",
    "    f1_list.append(f1)\n",
    "    recall_list.append(recall)"
   ]
  },
  {
   "cell_type": "code",
   "execution_count": 8,
   "id": "c7f7b46d-2c67-4532-9ae0-ad4672cf4acd",
   "metadata": {},
   "outputs": [
    {
     "data": {
      "text/html": [
       "<div>\n",
       "<style scoped>\n",
       "    .dataframe tbody tr th:only-of-type {\n",
       "        vertical-align: middle;\n",
       "    }\n",
       "\n",
       "    .dataframe tbody tr th {\n",
       "        vertical-align: top;\n",
       "    }\n",
       "\n",
       "    .dataframe thead th {\n",
       "        text-align: right;\n",
       "    }\n",
       "</style>\n",
       "<table border=\"1\" class=\"dataframe\">\n",
       "  <thead>\n",
       "    <tr style=\"text-align: right;\">\n",
       "      <th></th>\n",
       "      <th>Accuracy</th>\n",
       "      <th>Avg Precision</th>\n",
       "      <th>Avg Recall</th>\n",
       "      <th>Avg F1-Score</th>\n",
       "    </tr>\n",
       "  </thead>\n",
       "  <tbody>\n",
       "    <tr>\n",
       "      <th>Logistic Regression</th>\n",
       "      <td>0.958333</td>\n",
       "      <td>0.959100</td>\n",
       "      <td>0.958333</td>\n",
       "      <td>0.958198</td>\n",
       "    </tr>\n",
       "    <tr>\n",
       "      <th>SVM</th>\n",
       "      <td>0.991667</td>\n",
       "      <td>0.991865</td>\n",
       "      <td>0.991667</td>\n",
       "      <td>0.991724</td>\n",
       "    </tr>\n",
       "    <tr>\n",
       "      <th>Decision Tree</th>\n",
       "      <td>0.850000</td>\n",
       "      <td>0.853981</td>\n",
       "      <td>0.850000</td>\n",
       "      <td>0.849711</td>\n",
       "    </tr>\n",
       "    <tr>\n",
       "      <th>Random Forest</th>\n",
       "      <td>0.969444</td>\n",
       "      <td>0.969970</td>\n",
       "      <td>0.969444</td>\n",
       "      <td>0.969523</td>\n",
       "    </tr>\n",
       "    <tr>\n",
       "      <th>Gaussian Naive Bayes</th>\n",
       "      <td>0.852778</td>\n",
       "      <td>0.888646</td>\n",
       "      <td>0.852778</td>\n",
       "      <td>0.853358</td>\n",
       "    </tr>\n",
       "    <tr>\n",
       "      <th>Multinomial Naive Bayes</th>\n",
       "      <td>0.891667</td>\n",
       "      <td>0.902709</td>\n",
       "      <td>0.891667</td>\n",
       "      <td>0.892471</td>\n",
       "    </tr>\n",
       "    <tr>\n",
       "      <th>KNN</th>\n",
       "      <td>0.988889</td>\n",
       "      <td>0.989255</td>\n",
       "      <td>0.988889</td>\n",
       "      <td>0.988919</td>\n",
       "    </tr>\n",
       "  </tbody>\n",
       "</table>\n",
       "</div>"
      ],
      "text/plain": [
       "                         Accuracy  Avg Precision  Avg Recall  Avg F1-Score\n",
       "Logistic Regression      0.958333       0.959100    0.958333      0.958198\n",
       "SVM                      0.991667       0.991865    0.991667      0.991724\n",
       "Decision Tree            0.850000       0.853981    0.850000      0.849711\n",
       "Random Forest            0.969444       0.969970    0.969444      0.969523\n",
       "Gaussian Naive Bayes     0.852778       0.888646    0.852778      0.853358\n",
       "Multinomial Naive Bayes  0.891667       0.902709    0.891667      0.892471\n",
       "KNN                      0.988889       0.989255    0.988889      0.988919"
      ]
     },
     "execution_count": 8,
     "metadata": {},
     "output_type": "execute_result"
    }
   ],
   "source": [
    "# Create a DataFrame\n",
    "metrics_df = pd.DataFrame({\n",
    "    'Accuracy': accuracy_list,\n",
    "    'Avg Precision': precision_list,\n",
    "    'Avg Recall': recall_list,\n",
    "    'Avg F1-Score': f1_list\n",
    "}, index=models.keys())\n",
    "metrics_df"
   ]
  }
 ],
 "metadata": {
  "kernelspec": {
   "display_name": "Python 3 (ipykernel)",
   "language": "python",
   "name": "python3"
  },
  "language_info": {
   "codemirror_mode": {
    "name": "ipython",
    "version": 3
   },
   "file_extension": ".py",
   "mimetype": "text/x-python",
   "name": "python",
   "nbconvert_exporter": "python",
   "pygments_lexer": "ipython3",
   "version": "3.12.3"
  }
 },
 "nbformat": 4,
 "nbformat_minor": 5
}
